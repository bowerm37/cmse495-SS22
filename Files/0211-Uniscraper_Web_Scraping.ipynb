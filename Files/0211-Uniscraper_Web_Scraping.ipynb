{
 "cells": [
  {
   "cell_type": "markdown",
   "metadata": {},
   "source": [
    "[Link to this jupyter notebook](./Files/0211-Uniscraper_Web_Scraping.ipynb)"
   ]
  },
  {
   "cell_type": "markdown",
   "metadata": {},
   "source": [
    "# Exploring exteral packages - Web Scraper Activity\n",
    "\n",
    "You will be working mostly in your groups today.  Please complete all of the following tasks and we will get together at around 3:30pm to discuss what you have learned. \n",
    "\n",
    "## Agenda (80 Minutes)\n",
    "\n",
    "- (5 minutes) Fork the Uniscrapper Project\n",
    "- (20 minutes) Code Review\n",
    "- (10 minutes) Submit an Issue to Github\n",
    "- (15 minutes) Issue a pull request\n",
    "- (30 minutes) Final Reflection \n"
   ]
  },
  {
   "cell_type": "markdown",
   "metadata": {},
   "source": [
    "---\n",
    "\n",
    "# 1. Fork the UniScrapper Project\n",
    "\n",
    "Often web pages can have many different and unpredictable formats.  The UniScraper project by MSU's own Meng Cai is a web scraper that attempts to crape words from web pages using many different formats.  \n",
    "\n",
    "Work in your groups and fork the project, download your forked copy, install and test the UniScraper tool.\n",
    "\n",
    "- Use github website to fork the repository\n",
    "- Clone your forked repository using git\n",
    "- Follow the instructions to create a local environment on your computer\n",
    "- Run the example.ipynb\n",
    "\n",
    "https://github.com/caimeng2/UniScraper\n",
    "\n",
    "\n"
   ]
  },
  {
   "cell_type": "markdown",
   "metadata": {},
   "source": [
    "---- \n",
    "\n",
    "# 2. Code Review\n",
    "\n",
    "As a team review the code provided in the Uniscraper project. See if you can get the example code working.  What is it doing?  What questions do you have?"
   ]
  },
  {
   "cell_type": "markdown",
   "metadata": {},
   "source": [
    "Put your notes and questions here"
   ]
  },
  {
   "cell_type": "markdown",
   "metadata": {},
   "source": [
    "----\n",
    "# 3. Submit Issues you find to the github issues pages\n",
    "\n",
    "It is important to support code developers who post their code for free.  One thing you can do is help them by providing useful feedback and ideas.  When you see a bug, do not be afraid to add it to the github \"issues\" page.  Make sure you give detailed descriptions of the problems and all information the developer needs to reproduce the problem. \n",
    "\n",
    "See if you can find an issue or feature request for the package and type it up with on github issues.  I have told the author of the package you would be doing this so they are expecting your feedback. Make sure you are polite, professional and helpful. "
   ]
  },
  {
   "cell_type": "markdown",
   "metadata": {},
   "source": [
    "---\n",
    "\n",
    "# 4. Pull request\n",
    "\n",
    "See if your group can fix any of the issues you find (or just make a suggestion). I would like each group to find something to contribute back to the project using a pull request.  Do the following steps in your forked repository:\n",
    "\n",
    "- Make a branch\n",
    "- Make a useful change to the repository and commit that change to the branch\n",
    "- Push your branch to your forked repository on github.\n",
    "- Use github to issue a pull request. \n",
    "\n",
    "Please ask your instructor for help if needed."
   ]
  },
  {
   "cell_type": "markdown",
   "metadata": {},
   "source": [
    "---\n",
    "\n",
    "# 5. Reflection\n",
    "\n",
    "Finally think about the following questions and be prepared to share some of your answers with the class.\n",
    "\n",
    "- What value is third party software that may have some bugs?\n",
    "- When might you use a software like Uniscraper?  Would it be helpful in your current project?\n",
    "- Does the Uniscraper project fit with your capstone project?  If so, how?"
   ]
  },
  {
   "cell_type": "markdown",
   "metadata": {},
   "source": [
    "Written by Dr. Dirk Colbry, Michigan State University\n",
    "<a rel=\"license\" href=\"http://creativecommons.org/licenses/by-nc/4.0/\"><img alt=\"Creative Commons License\" style=\"border-width:0\" src=\"https://i.creativecommons.org/l/by-nc/4.0/88x31.png\" /></a><br />This work is licensed under a <a rel=\"license\" href=\"http://creativecommons.org/licenses/by-nc/4.0/\">Creative Commons Attribution-NonCommercial 4.0 International License</a>."
   ]
  }
 ],
 "metadata": {
  "kernelspec": {
   "display_name": "Python 3",
   "language": "python",
   "name": "python3"
  },
  "language_info": {
   "codemirror_mode": {
    "name": "ipython",
    "version": 3
   },
   "file_extension": ".py",
   "mimetype": "text/x-python",
   "name": "python",
   "nbconvert_exporter": "python",
   "pygments_lexer": "ipython3",
   "version": "3.8.8"
  }
 },
 "nbformat": 4,
 "nbformat_minor": 4
}
