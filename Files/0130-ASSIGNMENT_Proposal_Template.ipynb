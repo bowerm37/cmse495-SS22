{
 "cells": [
  {
   "cell_type": "markdown",
   "metadata": {},
   "source": [
    "[Link to this document as a Jupyter notebook](./Files/0130-ASSIGNMENT_Proposal_Template.ipynb)\n",
    "\n",
    "# ASSIGNMENT - Project Plan"
   ]
  },
  {
   "cell_type": "markdown",
   "metadata": {},
   "source": [
    "# <center>  Project Title </center>\n",
    "\n",
    "<center>By \"Your name\"</center>"
   ]
  },
  {
   "cell_type": "markdown",
   "metadata": {},
   "source": [
    "Replace the following with a picture that \"defines\" your project.  This could be sponsor logo, an expected outcome of your project, a graphical representation of the research area, etc.\n",
    "\n",
    "<img src=\"http://simpleicon.com/wp-content/uploads/camera.png\" width=\"20%\">\n",
    "\n",
    "Image from: URL REFERENCE \n",
    "\n",
    "**NOTE:** This image should either be available on the Internet (in which case you include the full url in the ```src``` field.  Or, the image should be added to your repository in the ```docs/images``` directory in which case the ```src``` field should be a relative path such as ```./images/myfile.png```. DO NOT use absolute paths for local files. "
   ]
  },
  {
   "cell_type": "markdown",
   "metadata": {},
   "source": [
    "---\n",
    "# Instructions\n",
    "\n",
    "Please write your proposals either in full markdown files (md) or as Jupyter notebooks (ipynb).  This notebook not only acts as instructions/outline for your proposal but should be used as a template for writing. Rename the file to something like ```proposal.md``` or ```proposal.ipynb``` and commit it to your ```docs``` folder.  **_DO NOT leave the instructions in your submitted document_**. Erase all instructions and only leave the basic structure and format. Try to write the proposal to a general audience that may be interested (for example your classmates, your advisor or your lab mates).  \n",
    "\n",
    "Make this look as professional as possible. You will be sending this to your project sponsors.\n"
   ]
  },
  {
   "cell_type": "markdown",
   "metadata": {},
   "source": [
    "---\n",
    "# Overview\n",
    "\n",
    "Provide a couple of paragraphs about the research domain you are going to cover in your project. Explain as if to someone outside your area of expertise. Please use references when appropriate. "
   ]
  },
  {
   "cell_type": "markdown",
   "metadata": {},
   "source": [
    "---\n",
    "# Program Description\n",
    "\n",
    "Provide a more detailed paragraph about the software be modifying or developing as part of your project.  What components already exists and what components do you hope to add and/or improve as part of your project?  \n",
    "\n",
    "This should be written mostly in your own words. Do not just copy and paste words from the project description.\n"
   ]
  },
  {
   "cell_type": "markdown",
   "metadata": {},
   "source": [
    "---\n",
    "# Project Goals Labor and Timeline\n",
    "\n",
    "Explain in more detail the parts of the code you are going to get working for the project.  How is this work going to be divided between team members such as there is an even distribution of labor.   Lay out some short term, mid-term and long term goals. As best you can, try to scope the project such that you can complete the short term and mid-term goals and if time/luck permits maybe a few of the long term goals.\n",
    "\n",
    "Note: it is expected that these goals will adjust change as things move forward.\n",
    "\n",
    "As a reminder, here are a set of dates (Approx. every other Friday) that include deliverables related to your projects. These sub-projects are designed to introduce you to useful software development tools\n",
    "\n",
    "\n",
    "- 1/23/2022 - Create git repository \n",
    "- 1/30/2022 - Proposal due\n",
    "- 2/6/2022 - Proposal Presentation Slides due\n",
    "- 2/13/2022 - Proposal video due\n",
    "- 3/13/2022 - Closed Loop Presentation Slides due\n",
    "- 3/20/2022 - Closed Loop Video due\n",
    "- 4/3/2022 - Full project Draft due\n",
    "- 4/17/2022 - Final Presentaion slides due\n",
    "- 4/24/2022 - Final Video and Report due\n",
    "\n",
    "\n"
   ]
  },
  {
   "cell_type": "markdown",
   "metadata": {},
   "source": [
    "---\n",
    "# Anticipating Challenges  \n",
    "\n",
    "List any key pieces of information/skills do you need to learn and/or mater to successfully complete all of your project goals. \n",
    "\n",
    "Also list challenges that you are worried about or that may come up in the course of completing your project.  Include changes you will make to your plan if these challenges do arise. \n"
   ]
  },
  {
   "cell_type": "markdown",
   "metadata": {},
   "source": [
    "----\n",
    "\n",
    "# Proposal Grading Rubric\n",
    "The following basic grading rubric instructors will try to use to evaluate your proposal\n",
    "\n",
    "    Grading Overall\n",
    "    10 points - Project title\n",
    "    10 points - Descriptive picture\n",
    "    20 points - Overview\n",
    "    20 points - Program Description\n",
    "    20 points - Project Goals / Timeline\n",
    "    20 points - Anticipating Challenges\n",
    "\n",
    "    Grading Rubric\n",
    "    -5 Leaving in instructions in report.\n",
    "    -5 Sloppy formatting"
   ]
  },
  {
   "cell_type": "markdown",
   "metadata": {},
   "source": [
    "# Submitting Assignment\n",
    "\n",
    "To submit your proposal add a copy to the git repository. Your instructors will download the updated repository after the due date. \n",
    "\n",
    "Once your instructor's have graded your reports, teams will be asked to respond to the feedback and then email the final reports to their sponsors (while cc'ing the instructors). \n"
   ]
  },
  {
   "cell_type": "markdown",
   "metadata": {},
   "source": [
    "Written by Dr. Dirk Colbry, Michigan State University\n",
    "<a rel=\"license\" href=\"http://creativecommons.org/licenses/by-nc/4.0/\"><img alt=\"Creative Commons License\" style=\"border-width:0\" src=\"https://i.creativecommons.org/l/by-nc/4.0/88x31.png\" /></a><br />This work is licensed under a <a rel=\"license\" href=\"http://creativecommons.org/licenses/by-nc/4.0/\">Creative Commons Attribution-NonCommercial 4.0 International License</a>."
   ]
  }
 ],
 "metadata": {
  "anaconda-cloud": {},
  "kernelspec": {
   "display_name": "Python 3",
   "language": "python",
   "name": "python3"
  },
  "language_info": {
   "codemirror_mode": {
    "name": "ipython",
    "version": 3
   },
   "file_extension": ".py",
   "mimetype": "text/x-python",
   "name": "python",
   "nbconvert_exporter": "python",
   "pygments_lexer": "ipython3",
   "version": "3.8.8"
  }
 },
 "nbformat": 4,
 "nbformat_minor": 1
}
