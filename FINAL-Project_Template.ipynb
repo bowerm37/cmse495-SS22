{
 "cells": [
  {
   "cell_type": "markdown",
   "metadata": {},
   "source": [
    "[Link to this Jupyter Notebook](FINAL-Project-Template-INSTRUCTOR.ipynb)"
   ]
  },
  {
   "cell_type": "markdown",
   "metadata": {},
   "source": [
    "The goal of the project report is to provide a document that could be printed out and given to someone to read and fully understand the project.  This document should be written like a scientific paper and not include dynamic content such as video and code that needs to be run (although figures and images are encouraged).  \n",
    "\n",
    "You can print this report as a PDF and include it as an attachment in your email to the instructor and sponsors.  \n"
   ]
  },
  {
   "cell_type": "markdown",
   "metadata": {},
   "source": [
    "# <center> &#9989; Project Title </center>\n",
    "\n",
    "<center>By &#9989; \"Your names and emails\"</center>"
   ]
  },
  {
   "cell_type": "markdown",
   "metadata": {},
   "source": [
    "---\n",
    "# Abstract\n",
    "\n",
    "&#9989;  A summary describing the high-level functionality and purpose of the project for a diverse, non-specialist audience.  Include a summary of what you did and your conclusions. "
   ]
  },
  {
   "cell_type": "markdown",
   "metadata": {},
   "source": [
    "----\n",
    "# Background and Motivation\n",
    "\n",
    "&#9989;  A clear statement of need that illustrates the purpose of the project. Include any background information someone would need to understand the problem.  Make sure you define any jargon and spell out any acronyms that will be used. "
   ]
  },
  {
   "cell_type": "markdown",
   "metadata": {},
   "source": [
    "----\n",
    "# Methodology\n",
    "&#9989; Tell the story about how your team tried to solve this problem.  Include descriptions of software packages and any theory you used. This should be written such that someone Knowledgeable could try to use this description and your repository to reproduce the project results. "
   ]
  },
  {
   "cell_type": "markdown",
   "metadata": {},
   "source": [
    "----\n",
    "# Results\n",
    "This section outlines the major results of the project. Include summary figures with references to the jupyter notebooks that describe how the figures were produced.  This should tell a story about what you learned and be in a logical order.  "
   ]
  },
  {
   "cell_type": "markdown",
   "metadata": {},
   "source": [
    "----\n",
    "# Concluding Discussion and Future Work\n",
    "&#9989;  This section should summaries what the project did and what conclusions you can make from the results.  Teams should also include ideas for future work.  "
   ]
  },
  {
   "cell_type": "markdown",
   "metadata": {},
   "source": [
    "----\n",
    "# Acknowledgements\n",
    "\n",
    "&#9989;  Teams should acknowledge their sponsors and any other groups that helped with their project. "
   ]
  },
  {
   "cell_type": "markdown",
   "metadata": {},
   "source": [
    "----\n",
    "# References\n",
    "\n",
    "&#9989; A numbered list of key references including a link to the software archive. These numbers should be included in the text above. "
   ]
  },
  {
   "cell_type": "markdown",
   "metadata": {},
   "source": [
    "# Appendices\n",
    "\n",
    "Although not required use appendices to include any more details which you don't want to include in your main report.  This will vary by project.  "
   ]
  }
 ],
 "metadata": {
  "anaconda-cloud": {},
  "kernelspec": {
   "display_name": "Python 3",
   "language": "python",
   "name": "python3"
  },
  "language_info": {
   "codemirror_mode": {
    "name": "ipython",
    "version": 3
   },
   "file_extension": ".py",
   "mimetype": "text/x-python",
   "name": "python",
   "nbconvert_exporter": "python",
   "pygments_lexer": "ipython3",
   "version": "3.8.8"
  }
 },
 "nbformat": 4,
 "nbformat_minor": 1
}
